{
 "cells": [
  {
   "cell_type": "markdown",
   "metadata": {},
   "source": [
    "# Function\n",
    "* pre-defined function\n",
    "    * provided by in language\n",
    "* user-defined function\n",
    "    * custom function\n",
    "## similar properties on both type\n",
    "* return and non-return function\n",
    "    * return\n",
    "        * we can assign this value to the functin\n",
    "    * non-return\n",
    "        * only run !we can not assign this value to the functin\n",
    "## components\n",
    "* function Declaration\n",
    "* function Body\n",
    "* function Initialization\n",
    "\n",
    "## function syntex\n",
    "```\n",
    "\n",
    "def function_name(param1,param2)-> Return_type:\n",
    "    functuion body\n",
    "\n",
    "function_name(arg1,arg2)\n",
    "\n",
    "```\n",
    "\n",
    "### lambda function syntex\n",
    "* one line function\n",
    "* without name\n",
    "* only use in this line\n",
    "\n",
    "```\n",
    "\n",
    "lambda param1,param2: functuion body\n",
    "\n",
    "```\n",
    "\n"
   ]
  },
  {
   "cell_type": "markdown",
   "metadata": {},
   "source": [
    "## pre-Defined function\n",
    "* print\n",
    "* len\n",
    "* id\n",
    "* dir \n",
    "* chr\n",
    "* ord\n",
    "* exec"
   ]
  },
  {
   "cell_type": "markdown",
   "metadata": {},
   "source": [
    "## Return and non-return function"
   ]
  },
  {
   "cell_type": "code",
   "execution_count": 1,
   "metadata": {},
   "outputs": [
    {
     "name": "stdout",
     "output_type": "stream",
     "text": [
      "Pakiatan\n",
      "None\n"
     ]
    }
   ],
   "source": [
    "a= print(\"Pakiatan\") # print is non-reutrn function\n",
    "print(a)"
   ]
  },
  {
   "cell_type": "code",
   "execution_count": 2,
   "metadata": {},
   "outputs": [
    {
     "name": "stdout",
     "output_type": "stream",
     "text": [
      "8\n"
     ]
    }
   ],
   "source": [
    "a= len(\"Pakiatan\") # print is return function\n",
    "print(a)"
   ]
  },
  {
   "cell_type": "markdown",
   "metadata": {},
   "source": [
    "#### create a simple function without parameter (default function)"
   ]
  },
  {
   "cell_type": "code",
   "execution_count": 5,
   "metadata": {},
   "outputs": [
    {
     "name": "stdout",
     "output_type": "stream",
     "text": [
      "PIAIC Generativ Artificial Inteligance!\n",
      "Python Crash course!\n"
     ]
    }
   ],
   "source": [
    "def piaic()->None:\n",
    "    print(\"PIAIC Generativ Artificial Inteligance!\")\n",
    "    print(\"Python Crash course!\")\n",
    "    \n",
    "piaic()"
   ]
  },
  {
   "cell_type": "code",
   "execution_count": 6,
   "metadata": {},
   "outputs": [
    {
     "name": "stdout",
     "output_type": "stream",
     "text": [
      "PIAIC Generativ Artificial Inteligance!\n",
      "Python Crash course!\n",
      "PIAIC Generativ Artificial Inteligance!\n",
      "Python Crash course!\n",
      "PIAIC Generativ Artificial Inteligance!\n",
      "Python Crash course!\n"
     ]
    }
   ],
   "source": [
    "piaic()\n",
    "piaic()\n",
    "piaic()"
   ]
  },
  {
   "cell_type": "markdown",
   "metadata": {},
   "source": [
    "### create a function with parameter "
   ]
  },
  {
   "cell_type": "code",
   "execution_count": 16,
   "metadata": {},
   "outputs": [
    {
     "name": "stdout",
     "output_type": "stream",
     "text": [
      "9\n"
     ]
    }
   ],
   "source": [
    "def add_two_numbers(a:int,b:int)->None:\n",
    "    sum:int = a+b\n",
    "    print(sum)\n",
    "add_two_numbers(4,5)\n",
    "\n"
   ]
  },
  {
   "cell_type": "code",
   "execution_count": 2,
   "metadata": {},
   "outputs": [
    {
     "name": "stdout",
     "output_type": "stream",
     "text": [
      "a value is 4, b value is 5\n",
      "9\n"
     ]
    }
   ],
   "source": [
    "def add_two_numbers(a:int,b:int)->None:\n",
    "    print(f\"a value is {a}, b value is {b}\")\n",
    "    sum:int = a+b\n",
    "    print(sum)\n",
    "add_two_numbers(4,5) # positional argument"
   ]
  },
  {
   "cell_type": "code",
   "execution_count": 63,
   "metadata": {},
   "outputs": [
    {
     "name": "stdout",
     "output_type": "stream",
     "text": [
      "a value i 5, b value is 4\n",
      "9\n"
     ]
    }
   ],
   "source": [
    "def add_two_numbers(a:int,b:int)->None:\n",
    "    print(f\"a value i {a}, b value is {b}\")\n",
    "    sum:int = a+b\n",
    "    print(sum)\n",
    "add_two_numbers(b=4,a=5) # keyword argument"
   ]
  },
  {
   "cell_type": "code",
   "execution_count": 19,
   "metadata": {},
   "outputs": [
    {
     "name": "stdout",
     "output_type": "stream",
     "text": [
      "9\n"
     ]
    }
   ],
   "source": [
    "def add_two_numbers(a:int,b:int)->int:\n",
    "    return a+b\n",
    "    \n",
    "sum:int = add_two_numbers(4,5)\n",
    "print(sum)"
   ]
  },
  {
   "cell_type": "markdown",
   "metadata": {},
   "source": [
    "### create function with optional parameter"
   ]
  },
  {
   "cell_type": "code",
   "execution_count": 26,
   "metadata": {},
   "outputs": [
    {
     "name": "stdout",
     "output_type": "stream",
     "text": [
      "8\n"
     ]
    }
   ],
   "source": [
    "def multiplt_two_number(a:int,b:int=1)->int:\n",
    "    return a*b\n",
    "multiply= multiplt_two_number(2,4)\n",
    "print(multiply)"
   ]
  },
  {
   "cell_type": "code",
   "execution_count": 25,
   "metadata": {},
   "outputs": [
    {
     "name": "stdout",
     "output_type": "stream",
     "text": [
      "2\n"
     ]
    }
   ],
   "source": [
    "def multiplt_two_number(a:int,b:int=1)->int:\n",
    "    return a*b\n",
    "multiply= multiplt_two_number(2)\n",
    "print(multiply)"
   ]
  },
  {
   "cell_type": "markdown",
   "metadata": {},
   "source": [
    "## lambda function"
   ]
  },
  {
   "cell_type": "code",
   "execution_count": 28,
   "metadata": {},
   "outputs": [
    {
     "name": "stdout",
     "output_type": "stream",
     "text": [
      "7\n"
     ]
    }
   ],
   "source": [
    "fun1= lambda a,b : print(a+b)\n",
    "fun1(2,5)\n"
   ]
  },
  {
   "cell_type": "code",
   "execution_count": 38,
   "metadata": {},
   "outputs": [
    {
     "name": "stdout",
     "output_type": "stream",
     "text": [
      "12\n"
     ]
    }
   ],
   "source": [
    "fun2 = lambda a,b : print(a * b)\n",
    "fun2(3,4)"
   ]
  },
  {
   "cell_type": "code",
   "execution_count": 40,
   "metadata": {},
   "outputs": [
    {
     "name": "stdout",
     "output_type": "stream",
     "text": [
      "15\n"
     ]
    }
   ],
   "source": [
    "fun2 = lambda a,b: a*b\n",
    "m=fun2(3,5)\n",
    "print(m)"
   ]
  },
  {
   "cell_type": "code",
   "execution_count": 44,
   "metadata": {},
   "outputs": [
    {
     "name": "stdout",
     "output_type": "stream",
     "text": [
      "<map object at 0x000002188DC88340>\n"
     ]
    }
   ],
   "source": [
    "data :list[int] = [1,2,3,4,5,6,7,8,9]\n",
    "data= map(lambda X:X**2,data)\n",
    "print(data)"
   ]
  },
  {
   "cell_type": "code",
   "execution_count": 42,
   "metadata": {},
   "outputs": [
    {
     "name": "stdout",
     "output_type": "stream",
     "text": [
      "[1, 4, 9, 16, 25, 36, 49, 64, 81]\n"
     ]
    }
   ],
   "source": [
    "data :list[int] = [1,2,3,4,5,6,7,8,9]\n",
    "data= list(map(lambda X:X**2,data))\n",
    "print(data)"
   ]
  },
  {
   "cell_type": "code",
   "execution_count": 43,
   "metadata": {},
   "outputs": [
    {
     "name": "stdout",
     "output_type": "stream",
     "text": [
      "[2, 4, 6, 8, 10, 12, 14, 16, 18]\n"
     ]
    }
   ],
   "source": [
    "data :list[int] = [1,2,3,4,5,6,7,8,9]\n",
    "data= list(map(lambda X:X*2,data))\n",
    "print(data)"
   ]
  },
  {
   "cell_type": "code",
   "execution_count": 45,
   "metadata": {},
   "outputs": [
    {
     "name": "stdout",
     "output_type": "stream",
     "text": [
      "<filter object at 0x000002188DC88340>\n"
     ]
    }
   ],
   "source": [
    "data :list[int] = [1,2,3,4,5,6,7,8,9]\n",
    "data= filter(lambda X:X%2==0,data)\n",
    "print(data)"
   ]
  },
  {
   "cell_type": "code",
   "execution_count": 46,
   "metadata": {},
   "outputs": [
    {
     "name": "stdout",
     "output_type": "stream",
     "text": [
      "[2, 4, 6, 8]\n"
     ]
    }
   ],
   "source": [
    "data :list[int] = [1,2,3,4,5,6,7,8,9]\n",
    "data= list(filter(lambda X:X%2==0,data))\n",
    "print(data)"
   ]
  },
  {
   "cell_type": "markdown",
   "metadata": {},
   "source": [
    "## Generator function\n",
    "* iterate on element one by one\n",
    "* stop after each iteration\n",
    "* remember old iteration value (last iteration)\n",
    "* next iteration \n",
    "    * go farward from last iteration value "
   ]
  },
  {
   "cell_type": "code",
   "execution_count": 4,
   "metadata": {},
   "outputs": [
    {
     "name": "stdout",
     "output_type": "stream",
     "text": [
      "<generator object my_range at 0x00000137B23A32E0>\n",
      "[1, 2, 3, 4, 5, 6, 7, 8, 9, 10]\n",
      "<class 'generator'>\n"
     ]
    }
   ],
   "source": [
    "## Generator function with static type\n",
    "def my_range(start:int, end:int,step:int=1):\n",
    "    for i in range(start ,end+1,step):\n",
    "        yield i # generator function\n",
    "a= my_range(1,10)\n",
    "print(a)\n",
    "print (list(a))\n",
    "print(type(a))"
   ]
  },
  {
   "cell_type": "code",
   "execution_count": 5,
   "metadata": {},
   "outputs": [
    {
     "name": "stdout",
     "output_type": "stream",
     "text": [
      "<generator object my_range at 0x00000137B23A36A0>\n",
      "[1, 2, 3, 4, 5, 6, 7, 8, 9, 10]\n",
      "<class 'generator'>\n"
     ]
    }
   ],
   "source": [
    "## Generator function static type\n",
    "from collections.abc import Iterator\n",
    "def my_range(start:int, end:int,step:int=1)->Iterator[int]:\n",
    "    for i in range(start ,end+1,step):\n",
    "        yield i # generator function\n",
    "a:Iterator[int]= my_range(1,10)\n",
    "print(a)\n",
    "print (list(a))\n",
    "print(type(a))"
   ]
  },
  {
   "cell_type": "code",
   "execution_count": 52,
   "metadata": {},
   "outputs": [
    {
     "name": "stdout",
     "output_type": "stream",
     "text": [
      "<generator object my_range at 0x000002188E22D6C0>\n",
      "1\n",
      "2\n",
      "3\n",
      "pakistan\n",
      "4\n"
     ]
    }
   ],
   "source": [
    "a= my_range(1,10)\n",
    "print(a)\n",
    "print (next(a)) # it will iterate one by one\n",
    "print (next(a))\n",
    "print (next(a))\n",
    "print (\"pakistan\")\n",
    "print (next(a))"
   ]
  },
  {
   "cell_type": "markdown",
   "metadata": {},
   "source": [
    "## pass unlimited arguments\n",
    "* you can pass unlimeted arguments at calling time"
   ]
  },
  {
   "cell_type": "code",
   "execution_count": 7,
   "metadata": {},
   "outputs": [
    {
     "name": "stdout",
     "output_type": "stream",
     "text": [
      "Hello , nasir\n",
      "Hello , aslam\n",
      "Hello , amjid\n",
      "Hello , aneela\n",
      "Hello , qasim\n"
     ]
    }
   ],
   "source": [
    "# if you want to use single * then you must have callin the function with position arguments\n",
    "def greet(*names:str)->None: \n",
    "    for name in names:\n",
    "        print(f\"Hello , {name}\")\n",
    "    \n",
    "    \n",
    "greet(\"nasir\", \"aslam\",\"amjid\", \"aneela\", \"qasim\")"
   ]
  },
  {
   "cell_type": "code",
   "execution_count": 61,
   "metadata": {},
   "outputs": [
    {
     "name": "stdout",
     "output_type": "stream",
     "text": [
      "(1, 2, 3, 4, 5, 6, 7, 8, 9) <class 'tuple'>\n",
      "total cal: 45\n"
     ]
    }
   ],
   "source": [
    "\n",
    "def unlimit(*nums): # here *nums recieve unlimeted params\n",
    "    print(nums, type(nums))\n",
    "    total= 0\n",
    "    for i in nums:\n",
    "        total +=i\n",
    "    return total\n",
    "    \n",
    "totol= unlimit(1,2,3,4,5,6,7,8,9) # passing unlimited arguments\n",
    "print(\"total cal:\",totol)"
   ]
  },
  {
   "cell_type": "code",
   "execution_count": 79,
   "metadata": {},
   "outputs": [
    {
     "name": "stdout",
     "output_type": "stream",
     "text": [
      "{'a': 'nasir', 'b': 'aslam'}\n"
     ]
    }
   ],
   "source": [
    "# if you want to use double ** then you must have callin the function with key arguments\n",
    "def greet(**xyz:str)->None: \n",
    "    print(xyz)\n",
    "       \n",
    "greet(a=\"nasir\", b=\"aslam\")"
   ]
  },
  {
   "cell_type": "code",
   "execution_count": 67,
   "metadata": {},
   "outputs": [
    {
     "name": "stdout",
     "output_type": "stream",
     "text": [
      "{'a': 1, 'b': 2, 'c': 3, 'd': 4, 'x': 5, 'name': 'nasir'} <class 'dict'>\n"
     ]
    }
   ],
   "source": [
    "\n",
    "def funct(**args):\n",
    "    print(args, type(args))\n",
    "funct(a=1,b=2,c=3,d=4,x=5, name=\"nasir\")"
   ]
  },
  {
   "cell_type": "code",
   "execution_count": 71,
   "metadata": {},
   "outputs": [
    {
     "name": "stdout",
     "output_type": "stream",
     "text": [
      "1 3 (2, 3, 4, 5) {'c': 20, 'd': 30, 'x': 100, 'm': 55}\n"
     ]
    }
   ],
   "source": [
    "def my_function(a,b,*abc,**xyz):\n",
    "    print(a,b,abc,xyz)\n",
    "my_function(1,3,2,3,4,5, c=20,d=30,x=100, m=55)"
   ]
  },
  {
   "cell_type": "code",
   "execution_count": 85,
   "metadata": {},
   "outputs": [
    {
     "name": "stdout",
     "output_type": "stream",
     "text": [
      "1 3 (2, 3, 4, 5) {'c': 20, 'd': 30, 'x': 100, 'm': 55}\n"
     ]
    }
   ],
   "source": [
    "# with static type\n",
    "def my_function(a:int,b:int,*abc:int ,**xyz:int):\n",
    "    print(a,b,abc,xyz)\n",
    "my_function(1,3,2,3,4,5, c=20,d=30,x=100, m=55)"
   ]
  },
  {
   "cell_type": "markdown",
   "metadata": {},
   "source": [
    "## Decorators Function"
   ]
  },
  {
   "cell_type": "code",
   "execution_count": 81,
   "metadata": {},
   "outputs": [
    {
     "name": "stdout",
     "output_type": "stream",
     "text": [
      "something is happning before the function is called.\n",
      "Hello!\n",
      "something is happning before the function is called.\n"
     ]
    }
   ],
   "source": [
    "def my_decorator(func):\n",
    "    def wrapper():\n",
    "        print(\"something is happning before the function is called.\")\n",
    "        func()\n",
    "        print(\"something is happning before the function is called.\")\n",
    "    return wrapper\n",
    "    \n",
    "@my_decorator\n",
    "def say_hello():\n",
    "    print(\"Hello!\")\n",
    "say_hello()"
   ]
  },
  {
   "cell_type": "code",
   "execution_count": 82,
   "metadata": {},
   "outputs": [
    {
     "name": "stdout",
     "output_type": "stream",
     "text": [
      "something is happning before the function is called.\n",
      "Hello!\n",
      "something is happning before the function is called.\n"
     ]
    }
   ],
   "source": [
    "# with static type\n",
    "from typing import Callable\n",
    "def my_decorator(func : Callable[[], None])-> Callable[[], None]:\n",
    "    def wrapper():\n",
    "        print(\"something is happning before the function is called.\")\n",
    "        func()\n",
    "        print(\"something is happning before the function is called.\")\n",
    "    return wrapper\n",
    "    \n",
    "@my_decorator\n",
    "def say_hello():\n",
    "    print(\"Hello!\")\n",
    "say_hello()\n"
   ]
  },
  {
   "cell_type": "code",
   "execution_count": 83,
   "metadata": {},
   "outputs": [
    {
     "name": "stdout",
     "output_type": "stream",
     "text": [
      "something is happning before the function is called.\n",
      "100\n",
      "something is happning before the function is called.\n"
     ]
    }
   ],
   "source": [
    "from typing import Callable\n",
    "def my_decorator(func : Callable[[int], None])-> Callable[[int], None]:\n",
    "    def wrapper(num1:int)->None:\n",
    "        print(\"something is happning before the function is called.\")\n",
    "        func(num1)\n",
    "        print(\"something is happning before the function is called.\")\n",
    "    return wrapper\n",
    "    \n",
    "@my_decorator\n",
    "def say_hello(num1:int)->None:\n",
    "    print(num1)\n",
    "say_hello(100)"
   ]
  },
  {
   "cell_type": "markdown",
   "metadata": {},
   "source": [
    "# Recursion Function\n",
    "* Recursive function call itself in their own body\n",
    "* Recursive function call infinite time till you do not stop it"
   ]
  },
  {
   "cell_type": "code",
   "execution_count": 84,
   "metadata": {},
   "outputs": [
    {
     "name": "stdout",
     "output_type": "stream",
     "text": [
      "the factorial of 5 is 120\n"
     ]
    }
   ],
   "source": [
    "def factorial(x:int)-> int:\n",
    "    # this is recursive function to find the factorial of integer\n",
    "    if x== 1:\n",
    "        return 1\n",
    "    else:\n",
    "        return (x * factorial(x-1)) # here funtion is called\n",
    "num = 5\n",
    "print(\"the factorial of\", num, \"is\", factorial(num))\n",
    "    "
   ]
  }
 ],
 "metadata": {
  "kernelspec": {
   "display_name": "Python 3",
   "language": "python",
   "name": "python3"
  },
  "language_info": {
   "codemirror_mode": {
    "name": "ipython",
    "version": 3
   },
   "file_extension": ".py",
   "mimetype": "text/x-python",
   "name": "python",
   "nbconvert_exporter": "python",
   "pygments_lexer": "ipython3",
   "version": "3.12.3"
  }
 },
 "nbformat": 4,
 "nbformat_minor": 2
}
